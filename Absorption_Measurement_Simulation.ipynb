{
 "cells": [
  {
   "cell_type": "code",
   "execution_count": null,
   "metadata": {
    "collapsed": true
   },
   "outputs": [],
   "source": [
    "#load modules\n",
    "import cmath as ma\n",
    "import numpy as np\n",
    "import numpy.linalg as la\n",
    "import matplotlib.pyplot as plt\n",
    "import soundfile as sf"
   ]
  },
  {
   "cell_type": "code",
   "execution_count": null,
   "metadata": {
    "collapsed": true
   },
   "outputs": [],
   "source": [
    "#returns the distance of two points given in spherical coordinates\n",
    "def distance(r1,teta1,phi1,r2,teta2,phi2): \n",
    "    \n",
    "    #transformation to carthesian coordinates\n",
    "    x1 = r1*ma.cos(phi1)*ma.sin(teta1)\n",
    "    y1 = r1*ma.sin(phi1)*ma.sin(teta1)\n",
    "    z1 = r1*ma.cos(teta1)\n",
    "    x2 = r2*ma.cos(phi2)*ma.sin(teta2)\n",
    "    y2 = r2*ma.sin(phi2)*ma.sin(teta2)\n",
    "    z2 = r2*ma.cos(teta2)\n",
    "    #distance calculation\n",
    "    d = ma.sqrt((x1-x2)**2 + (y1-y2)**2 + (z1-z2)**2)\n",
    "    return d"
   ]
  },
  {
   "cell_type": "code",
   "execution_count": null,
   "metadata": {
    "collapsed": true
   },
   "outputs": [],
   "source": [
    "#function to calculate the angle in rad between two vectors in spherical coordinates (radius,colatitude,azimuth)\n",
    "#gives always the smallest angle between the vectors. It is okay here because the cosine is symmetrical to pi\n",
    "#and the cardioid polar pattern is also symmetrical\n",
    "def angle(r1,teta1,phi1,r2,teta2,phi2):\n",
    "    \n",
    "    r1=r2=1 #to still give an angle if one vector has zero length\n",
    "    \n",
    "    #converts the vectors to carthesian coordinates\n",
    "    v1 = [r1*ma.cos(phi1)*ma.sin(teta1),r1*ma.sin(phi1)*ma.sin(teta1),r1*ma.cos(teta1)]\n",
    "    v2 = [r2*ma.cos(phi2)*ma.sin(teta2),r2*ma.sin(phi2)*ma.sin(teta2),r2*ma.cos(teta2)]\n",
    "    #calculates the angle\n",
    "    cos_of_angle = np.dot(v1,v2)/(la.norm(v1)*la.norm(v2))\n",
    "    angle = ma.acos(cos_of_angle)\n",
    "    return(angle)"
   ]
  },
  {
   "cell_type": "code",
   "execution_count": null,
   "metadata": {
    "collapsed": true
   },
   "outputs": [],
   "source": [
    "#returns the B-format signal of the mic \n",
    "#input parameters\n",
    "# a: mic directivity constant\n",
    "# A: amplitude of sound source\n",
    "# freq: frequency vector\n",
    "# s_pos: source position\n",
    "def bformat(a,A,freq = [],s_pos = []):\n",
    "     \n",
    "#memory allocation output signals\n",
    "    s_LF = np.zeros((np.size(freq)),dtype=np.complex_)\n",
    "    s_LB = np.zeros((np.size(freq)),dtype=np.complex_)\n",
    "    s_RB = np.zeros((np.size(freq)),dtype=np.complex_)\n",
    "    s_RF = np.zeros((np.size(freq)),dtype=np.complex_)\n",
    "\n",
    "    # capsule positions\n",
    "    R = 0.0147 # radius of the tetrahedron in meters (according to Gerzon)\n",
    "    tilt = ma.atan(1/ma.sqrt(2))  # tilt of the capsules in rad (according to Farrar)\n",
    "    \n",
    "    # spherical coordinates (r,teta,phi)=(radius,colatitude,azimuth)\n",
    "    # in accordance with Faller and Farrar\n",
    "    LFU = ([R, ma.pi/2 - tilt, ma.pi/4])  #left front up\n",
    "    LBD = ([R, ma.pi/2 + tilt, 3*ma.pi/4]) #left back down\n",
    "    RBU = ([R, ma.pi/2 - tilt, 5*ma.pi/4]) #right back up\n",
    "    RFD = ([R, ma.pi/2 + tilt, 7*ma.pi/4]) #right front down\n",
    "\n",
    "    #distance of capsules to source\n",
    "    d_LF = distance(*LFU,*s_pos)\n",
    "    d_LB = distance(*LBD,*s_pos)\n",
    "    d_RB = distance(*RBU,*s_pos)\n",
    "    d_RF = distance(*RFD,*s_pos)\n",
    "\n",
    "    #angle between capsule and source\n",
    "    angLF = angle(*LFU,*s_pos)\n",
    "    angLB = angle(*LBD,*s_pos)\n",
    "    angRB = angle(*RBU,*s_pos)\n",
    "    angRF = angle(*RFD,*s_pos)\n",
    "        \n",
    "    for ii in range(np.size(freq)):\n",
    "            \n",
    "            f = freq[ii]\n",
    "            w = 2*ma.pi*f\n",
    "            c = 340\n",
    "            k = w/c\n",
    "\n",
    "            #pressure at the capsules due to the source at s_pos\n",
    "            p_LF = A*ma.exp(-1j*k*d_LF)\n",
    "            p_LB = A*ma.exp(-1j*k*d_LB)\n",
    "            p_RB = A*ma.exp(-1j*k*d_RB)\n",
    "            p_RF = A*ma.exp(-1j*k*d_RF)\n",
    "    \n",
    "            #signals of the capsules\n",
    "            s_LF[ii] = (a + a*ma.cos(angLF))*p_LF\n",
    "            s_LB[ii] = (a + a*ma.cos(angLB))*p_LB\n",
    "            s_RB[ii] = (a + a*ma.cos(angRB))*p_RB\n",
    "            s_RF[ii] = (a + a*ma.cos(angRF))*p_RF\n",
    "            \n",
    "    #B-format signals\n",
    "    W = s_LF + s_RB + s_RF + s_LB #omni\n",
    "    X = s_LF - s_RB + s_RF - s_LB #f.o.e. forward (to positive x)\n",
    "    Y = s_LF - s_RB - s_RF + s_LB #f.o.e. leftward (to positive y)\n",
    "    Z = s_LF - s_LB + s_RB - s_RF #f.o.e. upward (to positive z)\n",
    "    \n",
    "    return W,X,Y,Z"
   ]
  },
  {
   "cell_type": "code",
   "execution_count": null,
   "metadata": {
    "collapsed": true
   },
   "outputs": [],
   "source": [
    "#non-coincidence correction according to Gerzon as introduced by Batke, W attenuated by 3dB\n",
    "def corr_batke(a, order, B_format_matrix = [],freq = []):\n",
    "\n",
    "    B_corrected = np.zeros((np.size(freq)),dtype=np.complex_)\n",
    "    \n",
    "    for i in range(len(freq)):\n",
    "        f = freq[i]\n",
    "        R = 0.0147\n",
    "        w = 2*ma.pi*f\n",
    "        c = 340\n",
    "        k = w/c\n",
    "        xx = k*R\n",
    "        \n",
    "       \n",
    "        if f == 0:\n",
    "            j_0 = 1\n",
    "            j_0_diff = 0\n",
    "            j_1 = 0\n",
    "            j_1_diff = 1/3\n",
    "        if f > 0:\n",
    "            j_0 = ma.sin(xx)/(xx)\n",
    "            j_0_diff = (xx*ma.cos(xx) - ma.sin(xx))/((xx)**2)\n",
    "            j_1 = ma.sin(xx)/((xx)**2) - ma.cos(xx)/(xx)\n",
    "            j_1_diff = ((xx**2 - 2)*ma.sin(xx) + 2*xx*ma.cos(xx))/(xx**3)\n",
    "\n",
    "        V_0 = 1/(a*j_0 - 1j*(1-a)*j_0_diff)\n",
    "        V_1 = 1/(a*j_1 - 1j*(1-a)*j_1_diff)\n",
    "    \n",
    "        if order == 0:\n",
    "            B_corrected[i] = B_format_matrix[i]*V_0*(1/ma.sqrt(4*ma.pi))*(1/(ma.sqrt(2)))\n",
    "        if order == 1:\n",
    "            B_corrected[i] = B_format_matrix[i]*V_1*(1/ma.sqrt(4*ma.pi))*(-1j)\n",
    "            \n",
    "    return B_corrected"
   ]
  },
  {
   "cell_type": "code",
   "execution_count": null,
   "metadata": {
    "collapsed": true
   },
   "outputs": [],
   "source": [
    "#Measurement simulation\n",
    "f = np.arange(0,100000,1) #frequency vector\n",
    "h_s = 1 #distance source to absorber\n",
    "h = 0.1 #distance mic to absorber\n",
    "R_abs = 0.3-0.3j #reflection coefficient of the absorber\n",
    "\n",
    "W100,X100,Y100,Z100 = bformat(0.5,1,f,[(h_s-h),np.pi/2,np.pi])  #direct incident sound\n",
    "W100refl,X100refl,Y100refl,Z100refl = bformat(0.5,R_abs,f,[(h_s+h),np.pi/2,0]) #reflected sound\n",
    "\n",
    "#non-coincidence correction\n",
    "WF100 = corr_batke(0.5,0,W100,f)\n",
    "XF100 = corr_batke(0.5,1,X100,f)\n",
    "WF100refl = corr_batke(0.5,0,W100refl,f)\n",
    "XF100refl = corr_batke(0.5,1,X100refl,f)\n",
    "\n",
    "W100meas = WF100+WF100refl\n",
    "X100meas = XF100+XF100refl\n",
    "\n",
    "Zfrf = (WF100)/(XF100) # free field impedance\n",
    "Zmeas = (W100meas)/(X100meas) # sound field impedance during material measurement\n",
    "\n",
    "c = 340\n",
    "k = 2*np.pi*f/c\n",
    "Rmic = ((Zmeas/Zfrf -1)/(Zmeas/Zfrf +1)) * np.exp(1j*k*2*h)"
   ]
  },
  {
   "cell_type": "code",
   "execution_count": null,
   "metadata": {},
   "outputs": [],
   "source": [
    "plt.semilogx(np.real(Rmic),label='real')\n",
    "plt.semilogx(np.imag(Rmic),label = 'imaginary')\n",
    "plt.semilogx(abs(Rmic),label='absolute')\n",
    "plt.legend()\n",
    "plt.show()"
   ]
  }
 ],
 "metadata": {
  "kernelspec": {
   "display_name": "Python 3",
   "language": "python",
   "name": "python3"
  },
  "language_info": {
   "codemirror_mode": {
    "name": "ipython",
    "version": 3
   },
   "file_extension": ".py",
   "mimetype": "text/x-python",
   "name": "python",
   "nbconvert_exporter": "python",
   "pygments_lexer": "ipython3",
   "version": "3.6.3"
  }
 },
 "nbformat": 4,
 "nbformat_minor": 2
}
